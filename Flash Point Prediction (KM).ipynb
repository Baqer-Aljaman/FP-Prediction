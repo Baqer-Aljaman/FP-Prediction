{
 "cells": [
  {
   "cell_type": "markdown",
   "id": "controversial-crowd",
   "metadata": {},
   "source": [
    "## Flash Point Prediction (Keras Model)\n"
   ]
  },
  {
   "cell_type": "markdown",
   "id": "altered-participant",
   "metadata": {},
   "source": [
    "### Libraries "
   ]
  },
  {
   "cell_type": "code",
   "execution_count": null,
   "id": "honey-filling",
   "metadata": {},
   "outputs": [],
   "source": [
    "import tensorflow as tf\n",
    "import pandas as pd\n",
    "import numpy as np\n",
    "import seaborn as sns\n",
    "import matplotlib.pyplot as plt\n",
    "from tensorflow import keras\n",
    "from keras.models import Sequential\n",
    "from sklearn.model_selection import train_test_split\n",
    "from pandas.plotting import scatter_matrix\n",
    "from sklearn.preprocessing import StandardScaler\n",
    "from keras.wrappers.scikit_learn import KerasRegressor\n",
    "from tensorflow.keras import layers \n",
    "from keras.layers import Dense, Dropout\n",
    "from keras.optimizers import Adam\n",
    "from tensorflow.keras.constraints import MaxNorm\n",
    "from tensorflow.keras.callbacks import EarlyStopping\n",
    "from tensorflow.keras.regularizers import L2, L1\n",
    "from sklearn.metrics import r2_score"
   ]
  },
  {
   "cell_type": "markdown",
   "id": "consistent-balloon",
   "metadata": {},
   "source": [
    "### Reading data"
   ]
  },
  {
   "cell_type": "code",
   "execution_count": null,
   "id": "acknowledged-mission",
   "metadata": {},
   "outputs": [],
   "source": [
    "data = pd.read_csv(r\"C:\\Users\\Ba-1Q\\PycharmProjects\\pythonProject\\Chapter_2\\FP_All_Data.csv\")"
   ]
  },
  {
   "cell_type": "markdown",
   "id": "expensive-error",
   "metadata": {},
   "source": [
    "### Pearson heatmap"
   ]
  },
  {
   "cell_type": "code",
   "execution_count": null,
   "id": "intense-thing",
   "metadata": {},
   "outputs": [],
   "source": [
    "plt.figure(figsize=(12,10))\n",
    "cor = data.corr()\n",
    "sns.heatmap(cor, annot=True, cmap=plt.cm.CMRmap_r)\n",
    "plt.show()"
   ]
  },
  {
   "cell_type": "markdown",
   "id": "understood-monitor",
   "metadata": {},
   "source": [
    "### Ilocating data as x and y"
   ]
  },
  {
   "cell_type": "code",
   "execution_count": null,
   "id": "focused-response",
   "metadata": {},
   "outputs": [],
   "source": [
    "x_data = data.iloc[:,1:14]\n",
    "y_data = data.iloc[:,14:15]"
   ]
  },
  {
   "cell_type": "markdown",
   "id": "trying-intensity",
   "metadata": {},
   "source": [
    "### Splitting data into training and testing"
   ]
  },
  {
   "cell_type": "code",
   "execution_count": null,
   "id": "mysterious-wells",
   "metadata": {},
   "outputs": [],
   "source": [
    "x_train, x_test, y_train, y_test = train_test_split(x_data, y_data, test_size=0.20,random_state=20)"
   ]
  },
  {
   "cell_type": "markdown",
   "id": "fabulous-guinea",
   "metadata": {},
   "source": [
    "### Model development using Keras library"
   ]
  },
  {
   "cell_type": "code",
   "execution_count": null,
   "id": "primary-mambo",
   "metadata": {},
   "outputs": [],
   "source": [
    "l2 = L2(0.001)\n",
    "model = keras.Sequential([\n",
    "    keras.layers.Flatten(input_shape=(13,1)), \n",
    "    keras.layers.Dense(202, activation='relu'),#, kernel_regularizer=l2, kernel_initializer='glorot_uniform'),\n",
    "    #keras.layers.Dropout(0.001),\n",
    "    keras.layers.Dense(166, activation='relu'),#, kernel_regularizer=l2, kernel_initializer='glorot_uniform'),\n",
    "    #keras.layers.Dropout(0.001),\n",
    "    keras.layers.Dense(1, activation='relu')#, kernel_regularizer=l2)\n",
    "])\n",
    "adam = Adam(lr=0.001)\n",
    "model.compile(optimizer=adam, loss='mean_squared_error', metrics=['mean_absolute_error'])\n",
    "monitor = EarlyStopping(monitor='val_loss', min_delta=1, patience=50, verbose=1, mode='min', restore_best_weights=True  )\n"
   ]
  },
  {
   "cell_type": "code",
   "execution_count": null,
   "id": "bright-litigation",
   "metadata": {},
   "outputs": [],
   "source": [
    "fp = model.fit(x_train, y_train, callbacks = [monitor], epochs=350, batch_size=8, validation_data=(x_test, y_test),  verbose=2)  \n"
   ]
  },
  {
   "cell_type": "code",
   "execution_count": null,
   "id": "alternative-israel",
   "metadata": {},
   "outputs": [],
   "source": [
    "test_loss = model.evaluate(x_test,  y_test, verbose=1)"
   ]
  },
  {
   "cell_type": "code",
   "execution_count": null,
   "id": "female-reservoir",
   "metadata": {},
   "outputs": [],
   "source": [
    "y_predicted = model.predict(x_test)\n",
    "y_train_predicted = model.predict(x_train)\n",
    "y_data_predicted = model.predict(x_data)"
   ]
  },
  {
   "cell_type": "markdown",
   "id": "continuing-geometry",
   "metadata": {},
   "source": [
    "### Model summary"
   ]
  },
  {
   "cell_type": "code",
   "execution_count": null,
   "id": "statutory-screen",
   "metadata": {},
   "outputs": [],
   "source": [
    "print('Correlation coefficient of the training set (R2):', r2_score(y_train, y_train_predicted))\n",
    "print('Correlation coefficient of the testing set (R2):', r2_score(y_test, y_predicted))\n",
    "print('Correlation coefficient of the All data set (R2):', r2_score(y_data, y_data_predicted))"
   ]
  },
  {
   "cell_type": "code",
   "execution_count": null,
   "id": "italic-penny",
   "metadata": {},
   "outputs": [],
   "source": [
    "model.summary()"
   ]
  },
  {
   "cell_type": "code",
   "execution_count": null,
   "id": "native-purpose",
   "metadata": {},
   "outputs": [],
   "source": [
    "y_data_predicted"
   ]
  }
 ],
 "metadata": {
  "kernelspec": {
   "display_name": "Python 3",
   "language": "python",
   "name": "python3"
  },
  "language_info": {
   "codemirror_mode": {
    "name": "ipython",
    "version": 3
   },
   "file_extension": ".py",
   "mimetype": "text/x-python",
   "name": "python",
   "nbconvert_exporter": "python",
   "pygments_lexer": "ipython3",
   "version": "3.8.8"
  }
 },
 "nbformat": 4,
 "nbformat_minor": 5
}
