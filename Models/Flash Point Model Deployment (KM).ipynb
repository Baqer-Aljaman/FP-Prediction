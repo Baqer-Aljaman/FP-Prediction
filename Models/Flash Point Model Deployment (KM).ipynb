{
 "cells": [
  {
   "cell_type": "markdown",
   "id": "assigned-favor",
   "metadata": {},
   "source": [
    "## Model Deployment"
   ]
  },
  {
   "cell_type": "code",
   "execution_count": 15,
   "id": "female-arbitration",
   "metadata": {},
   "outputs": [],
   "source": [
    "# importing the libraries\n",
    "import tensorflow as tf\n",
    "import pandas as pd\n",
    "from tensorflow import keras"
   ]
  },
  {
   "cell_type": "code",
   "execution_count": 16,
   "id": "medieval-space",
   "metadata": {},
   "outputs": [],
   "source": [
    "# reading the dataset for testing\n",
    "data = pd.read_csv(r\"C:\\Users\\Ba-1Q\\PycharmProjects\\pythonProject\\Chapter_2\\FP_Data.csv\") # insert your dataset file path (csv file)"
   ]
  },
  {
   "cell_type": "code",
   "execution_count": 17,
   "id": "innovative-motel",
   "metadata": {},
   "outputs": [
    {
     "data": {
      "text/html": [
       "<div>\n",
       "<style scoped>\n",
       "    .dataframe tbody tr th:only-of-type {\n",
       "        vertical-align: middle;\n",
       "    }\n",
       "\n",
       "    .dataframe tbody tr th {\n",
       "        vertical-align: top;\n",
       "    }\n",
       "\n",
       "    .dataframe thead th {\n",
       "        text-align: right;\n",
       "    }\n",
       "</style>\n",
       "<table border=\"1\" class=\"dataframe\">\n",
       "  <thead>\n",
       "    <tr style=\"text-align: right;\">\n",
       "      <th></th>\n",
       "      <th>Paraffinic CH3</th>\n",
       "      <th>Paraffinic CH2</th>\n",
       "      <th>Paraffinic CH</th>\n",
       "      <th>Olefinic -CH=CH2</th>\n",
       "      <th>Naphthenic CH-CH2</th>\n",
       "      <th>Aromatic C-CH</th>\n",
       "      <th>Alcoholic OH</th>\n",
       "      <th>Ether O</th>\n",
       "      <th>Aldehydic CHO</th>\n",
       "      <th>Ketonic CO</th>\n",
       "      <th>Ester COO</th>\n",
       "      <th>MW</th>\n",
       "      <th>BI</th>\n",
       "    </tr>\n",
       "  </thead>\n",
       "  <tbody>\n",
       "    <tr>\n",
       "      <th>0</th>\n",
       "      <td>51.720000</td>\n",
       "      <td>48.280000</td>\n",
       "      <td>0.0</td>\n",
       "      <td>0.0</td>\n",
       "      <td>0.0</td>\n",
       "      <td>0.0</td>\n",
       "      <td>0.0</td>\n",
       "      <td>0.0</td>\n",
       "      <td>0.0</td>\n",
       "      <td>0.0</td>\n",
       "      <td>0.0</td>\n",
       "      <td>58.0</td>\n",
       "      <td>0.0</td>\n",
       "    </tr>\n",
       "    <tr>\n",
       "      <th>1</th>\n",
       "      <td>41.666667</td>\n",
       "      <td>58.333333</td>\n",
       "      <td>0.0</td>\n",
       "      <td>0.0</td>\n",
       "      <td>0.0</td>\n",
       "      <td>0.0</td>\n",
       "      <td>0.0</td>\n",
       "      <td>0.0</td>\n",
       "      <td>0.0</td>\n",
       "      <td>0.0</td>\n",
       "      <td>0.0</td>\n",
       "      <td>72.0</td>\n",
       "      <td>0.0</td>\n",
       "    </tr>\n",
       "    <tr>\n",
       "      <th>2</th>\n",
       "      <td>34.883721</td>\n",
       "      <td>65.116279</td>\n",
       "      <td>0.0</td>\n",
       "      <td>0.0</td>\n",
       "      <td>0.0</td>\n",
       "      <td>0.0</td>\n",
       "      <td>0.0</td>\n",
       "      <td>0.0</td>\n",
       "      <td>0.0</td>\n",
       "      <td>0.0</td>\n",
       "      <td>0.0</td>\n",
       "      <td>86.0</td>\n",
       "      <td>0.0</td>\n",
       "    </tr>\n",
       "    <tr>\n",
       "      <th>3</th>\n",
       "      <td>30.000000</td>\n",
       "      <td>70.000000</td>\n",
       "      <td>0.0</td>\n",
       "      <td>0.0</td>\n",
       "      <td>0.0</td>\n",
       "      <td>0.0</td>\n",
       "      <td>0.0</td>\n",
       "      <td>0.0</td>\n",
       "      <td>0.0</td>\n",
       "      <td>0.0</td>\n",
       "      <td>0.0</td>\n",
       "      <td>100.0</td>\n",
       "      <td>0.0</td>\n",
       "    </tr>\n",
       "    <tr>\n",
       "      <th>4</th>\n",
       "      <td>26.315789</td>\n",
       "      <td>73.684211</td>\n",
       "      <td>0.0</td>\n",
       "      <td>0.0</td>\n",
       "      <td>0.0</td>\n",
       "      <td>0.0</td>\n",
       "      <td>0.0</td>\n",
       "      <td>0.0</td>\n",
       "      <td>0.0</td>\n",
       "      <td>0.0</td>\n",
       "      <td>0.0</td>\n",
       "      <td>114.0</td>\n",
       "      <td>0.0</td>\n",
       "    </tr>\n",
       "  </tbody>\n",
       "</table>\n",
       "</div>"
      ],
      "text/plain": [
       "   Paraffinic CH3  Paraffinic CH2  Paraffinic CH  Olefinic -CH=CH2  \\\n",
       "0       51.720000       48.280000            0.0               0.0   \n",
       "1       41.666667       58.333333            0.0               0.0   \n",
       "2       34.883721       65.116279            0.0               0.0   \n",
       "3       30.000000       70.000000            0.0               0.0   \n",
       "4       26.315789       73.684211            0.0               0.0   \n",
       "\n",
       "   Naphthenic CH-CH2  Aromatic C-CH  Alcoholic OH  Ether O  Aldehydic CHO  \\\n",
       "0                0.0            0.0           0.0      0.0            0.0   \n",
       "1                0.0            0.0           0.0      0.0            0.0   \n",
       "2                0.0            0.0           0.0      0.0            0.0   \n",
       "3                0.0            0.0           0.0      0.0            0.0   \n",
       "4                0.0            0.0           0.0      0.0            0.0   \n",
       "\n",
       "   Ketonic CO  Ester COO     MW   BI  \n",
       "0         0.0        0.0   58.0  0.0  \n",
       "1         0.0        0.0   72.0  0.0  \n",
       "2         0.0        0.0   86.0  0.0  \n",
       "3         0.0        0.0  100.0  0.0  \n",
       "4         0.0        0.0  114.0  0.0  "
      ]
     },
     "execution_count": 17,
     "metadata": {},
     "output_type": "execute_result"
    }
   ],
   "source": [
    "# reading the inputs\n",
    "x_test = data.iloc[:,1:14]\n",
    "x_test.head()"
   ]
  },
  {
   "cell_type": "code",
   "execution_count": 19,
   "id": "productive-farmer",
   "metadata": {},
   "outputs": [
    {
     "ename": "SyntaxError",
     "evalue": "invalid syntax (<ipython-input-19-d3b8f5859ce9>, line 2)",
     "output_type": "error",
     "traceback": [
      "\u001b[1;36m  File \u001b[1;32m\"<ipython-input-19-d3b8f5859ce9>\"\u001b[1;36m, line \u001b[1;32m2\u001b[0m\n\u001b[1;33m    model = keras.models.load_model(r'C:\\Users\\Ba-1Q\\Desktop\\Ba'1Q'eR\\KAUST\\Researchs\\Prediction of flash point\\Models\\Final Keras model\\FP_Developed_Keras_Model') # insert the developed model file path\u001b[0m\n\u001b[1;37m                                                                ^\u001b[0m\n\u001b[1;31mSyntaxError\u001b[0m\u001b[1;31m:\u001b[0m invalid syntax\n"
     ]
    }
   ],
   "source": [
    "# loading the developed model\n",
    "model = keras.models.load_model(r'C:\\Users\\Ba-1Q\\Desktop\\Ba'1Q'eR\\KAUST\\Researchs\\Prediction of flash point\\Models\\Final Keras model\\FP_Developed_Keras_Model') # insert the developed model file path"
   ]
  },
  {
   "cell_type": "code",
   "execution_count": null,
   "id": "classified-sydney",
   "metadata": {},
   "outputs": [],
   "source": [
    "# predicting the flash point for the dataset\n",
    "Prediction = model.predict(x_test)"
   ]
  },
  {
   "cell_type": "code",
   "execution_count": null,
   "id": "greater-integral",
   "metadata": {},
   "outputs": [],
   "source": [
    "# printing the predicted flash points\n",
    "print('The flash point of the compound/blend:', data.iloc[:,0],Prediction)"
   ]
  }
 ],
 "metadata": {
  "kernelspec": {
   "display_name": "Python 3",
   "language": "python",
   "name": "python3"
  },
  "language_info": {
   "codemirror_mode": {
    "name": "ipython",
    "version": 3
   },
   "file_extension": ".py",
   "mimetype": "text/x-python",
   "name": "python",
   "nbconvert_exporter": "python",
   "pygments_lexer": "ipython3",
   "version": "3.8.8"
  }
 },
 "nbformat": 4,
 "nbformat_minor": 5
}
