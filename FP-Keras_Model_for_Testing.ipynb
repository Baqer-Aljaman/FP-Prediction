
{
 "cells": [
  {
   "cell_type": "code",
   "execution_count": null,
   "id": "treated-effects",
   "metadata": {},
   "outputs": [],
   "source": [
    "# importing the libraries\n",
    "import tensorflow as tf\n",
    "import pandas as pd\n",
    "from tensorflow import keras"
   ]
  },
  {
   "cell_type": "code",
   "execution_count": null,
   "id": "medieval-space",
   "metadata": {},
   "outputs": [],
   "source": [
    "# reading the dataset for testing\n",
    "data = pd.read_csv(r\"\") # insert your dataset file path (csv file)"
   ]
  },
  {
   "cell_type": "code",
   "execution_count": null,
   "id": "innovative-motel",
   "metadata": {},
   "outputs": [],
   "source": [
    "# reading the inputs\n",
    "x_test = data.iloc[:,1:14]\n",
    "x_test.head()"
   ]
  },
  {
   "cell_type": "code",
   "execution_count": null,
   "id": "straight-profession",
   "metadata": {},
   "outputs": [],
   "source": [
    "# loading the developed model\n",
    "model = keras.models.load_model(r'\\FP-Developed_Keras_Model') # insert the developed model file path"
   ]
  },
  {
   "cell_type": "code",
   "execution_count": null,
   "id": "classified-sydney",
   "metadata": {},
   "outputs": [],
   "source": [
    "# predicting the flash point for the dataset\n",
    "Prediction = model.predict(x_test)"
   ]
  },
  {
   "cell_type": "code",
   "execution_count": null,
   "id": "greater-integral",
   "metadata": {},
   "outputs": [],
   "source": [
    "# printing the predicted flash points\n",
    "print('The flash point of the compound/blend:', data.iloc[:,0],Prediction)"
   ]
  }
 ],
 "metadata": {
  "kernelspec": {
   "display_name": "Python 3",
   "language": "python",
   "name": "python3"
  },
  "language_info": {
   "codemirror_mode": {
    "name": "ipython",
    "version": 3
   },
   "file_extension": ".py",
   "mimetype": "text/x-python",
   "name": "python",
   "nbconvert_exporter": "python",
   "pygments_lexer": "ipython3",
   "version": "3.8.8"
  }
 },
 "nbformat": 4,
 "nbformat_minor": 5
}
